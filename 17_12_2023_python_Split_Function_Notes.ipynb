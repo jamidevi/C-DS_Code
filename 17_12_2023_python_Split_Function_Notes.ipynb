{
  "nbformat": 4,
  "nbformat_minor": 0,
  "metadata": {
    "colab": {
      "provenance": [],
      "toc_visible": true,
      "authorship_tag": "ABX9TyOrLmVmOVNtf2nDwoUBlqYJ",
      "include_colab_link": true
    },
    "kernelspec": {
      "name": "python3",
      "display_name": "Python 3"
    },
    "language_info": {
      "name": "python"
    }
  },
  "cells": [
    {
      "cell_type": "markdown",
      "metadata": {
        "id": "view-in-github",
        "colab_type": "text"
      },
      "source": [
        "<a href=\"https://colab.research.google.com/github/jamidevi/C-DS_Code/blob/main/17_12_2023_python_Split_Function_Notes.ipynb\" target=\"_parent\"><img src=\"https://colab.research.google.com/assets/colab-badge.svg\" alt=\"Open In Colab\"/></a>"
      ]
    },
    {
      "cell_type": "markdown",
      "source": [
        "How To Split A String On Uppercase Letters In Python\n",
        "\n",
        "\n",
        "* Use the re.findall() method  \n",
        "* Use the re.split() function\n",
        "\n",
        "\n",
        "* Use the isupper() function  \n",
        "\n",
        "\n",
        "\n",
        "\n"
      ],
      "metadata": {
        "id": "LBKEqnAwwXId"
      }
    },
    {
      "cell_type": "markdown",
      "source": [
        "Use the re.findall() method\n",
        "\n",
        "\n",
        "\n",
        "\n",
        "*  Syntax:\n",
        "re.findall(regex, string)\n",
        "Parameters:\n",
        "\n",
        "*   Parameters:\n",
        "*   regex: regular expression to search for digits.\n",
        "\n",
        "*  string: string you want the regular expression to search for.\n",
        "\n",
        "\n",
        "\n",
        "\n"
      ],
      "metadata": {
        "id": "qmm7sJK5xQZI"
      }
    },
    {
      "cell_type": "markdown",
      "source": [
        "# New Section"
      ],
      "metadata": {
        "id": "zta8i92n3MPS"
      }
    },
    {
      "cell_type": "code",
      "source": [
        "import re\n",
        "\n",
        "myString = 'VisitLearnShareItWebsite'\n",
        "\n",
        "# Use the re.findall function splits into strings containing uppercase characters.\n",
        "result = re.findall('[A-Z][^A-Z]*', myString)\n",
        "print('String containing uppercase characters:', result)"
      ],
      "metadata": {
        "colab": {
          "base_uri": "https://localhost:8080/"
        },
        "id": "Ay66-ZL_waTe",
        "outputId": "6047b20a-167d-483c-9127-47e9b1d06f6c"
      },
      "execution_count": null,
      "outputs": [
        {
          "output_type": "stream",
          "name": "stdout",
          "text": [
            "String containing uppercase characters: ['Visit', 'Learn', 'Share', 'It', 'Website']\n"
          ]
        }
      ]
    },
    {
      "cell_type": "markdown",
      "source": [
        "\n",
        "\n",
        "*   Use the re.split() function\n",
        "\n",
        "\n",
        "*   Syntax:\n",
        "\n",
        "*   re.split(RegEx, string, maxsplit)\n",
        "\n",
        "\n",
        "\n",
        "\n",
        "*   Parameters:\n",
        "\n",
        "*   RegEx: regular expressions.\n",
        "\n",
        "\n",
        "*   string: string you want to compare.\n",
        "*   maxsplit: is the maximum number of splits. If not specified, Python defaults to an infinite number of splits.\n",
        "\n",
        "\n",
        "\n",
        "*   You can also use the re.split() function to separate punctuation marks from strings.\n"
      ],
      "metadata": {
        "id": "wF8wXlMeyBGt"
      }
    },
    {
      "cell_type": "code",
      "source": [
        "import re\n",
        "\n",
        "myString = 'VisitLearnShareItWebsite'\n",
        "\n",
        "# Use the re.split function splits into strings containing uppercase characters\n",
        "result = [s for s in re.split(\"([A-Z][^A-Z]*)\", myString)]\n",
        "print('String containing uppercase characters:', result)"
      ],
      "metadata": {
        "colab": {
          "base_uri": "https://localhost:8080/"
        },
        "id": "kd-1ezC6x-9q",
        "outputId": "f90750e3-7fb2-447c-9660-eb647385efea"
      },
      "execution_count": null,
      "outputs": [
        {
          "output_type": "stream",
          "name": "stdout",
          "text": [
            "String containing uppercase characters: ['', 'Visit', '', 'Learn', '', 'Share', '', 'It', '', 'Website', '']\n"
          ]
        }
      ]
    },
    {
      "cell_type": "markdown",
      "source": [
        "You can change the RegEx to ‘(?<=.)(?=[A-Z])’ for the re.split function, and the result will still be the same."
      ],
      "metadata": {
        "id": "CKdNoCmOy0mp"
      }
    },
    {
      "cell_type": "code",
      "source": [
        "import re\n",
        "\n",
        "myString = 'VisitLearnShareItWebsite'\n",
        "\n",
        "# Use the re.split function splits into strings containing uppercase characters\n",
        "result = [s for s in re.split('(?<=.)(?=[A-Z])', myString)]\n",
        "print('String containing uppercase characters:', result)"
      ],
      "metadata": {
        "colab": {
          "base_uri": "https://localhost:8080/"
        },
        "id": "pchwZxHByycQ",
        "outputId": "36785f40-2860-4558-97b6-01cea2fe405a"
      },
      "execution_count": null,
      "outputs": [
        {
          "output_type": "stream",
          "name": "stdout",
          "text": [
            "String containing uppercase characters: ['Visit', 'Learn', 'Share', 'It', 'Website']\n"
          ]
        }
      ]
    },
    {
      "cell_type": "markdown",
      "source": [
        "\n",
        "\n",
        "*   Use the isupper() function¶\n",
        "\n",
        "*   Syntax:\n",
        "str.isupper()\n",
        "\n",
        "*   The upper() function takes no parameters. It returns True if all elements are in uppercase, False otherwise.\n",
        "\n",
        "\n",
        "\n",
        "\n"
      ],
      "metadata": {
        "id": "yJWmVR27y71S"
      }
    },
    {
      "cell_type": "code",
      "source": [
        "import re\n",
        "\n",
        "myString = 'VisitLearnShareItWebsite'\n",
        "\n",
        "# Variables have the effect of storing uppercase characters\n",
        "emptyStr=''\n",
        "\n",
        "for i in myString:\n",
        "    if(i.isupper()):\n",
        "        emptyStr+=\"*\"+i\n",
        "    else:\n",
        "        emptyStr+=i\n",
        "\n",
        "# Replace '*' and remove spaces\n",
        "result = emptyStr.split(\"*\")\n",
        "result.remove('')\n",
        "print('String containing uppercase characters:', result)"
      ],
      "metadata": {
        "colab": {
          "base_uri": "https://localhost:8080/"
        },
        "id": "NM1YMOf2y7CG",
        "outputId": "c94d23d2-cd54-4e79-8f73-54a90eb8d023"
      },
      "execution_count": null,
      "outputs": [
        {
          "output_type": "stream",
          "name": "stdout",
          "text": [
            "String containing uppercase characters: ['Visit', 'Learn', 'Share', 'It', 'Website']\n"
          ]
        }
      ]
    },
    {
      "cell_type": "markdown",
      "source": [
        "\n",
        "\n",
        "*   What is the re.sub() function in Python?\n",
        "\n",
        "*   The re.sub() function belongs to the Regular Expressions (re) module in Python. It returns a string where all matching occurrences of the specified pattern are replaced by the replace string.\n",
        "\n",
        "\n",
        "---\n",
        "\n",
        "\n",
        "\n",
        "*   diff between split() and re()\n",
        "\n",
        "\n",
        "\n",
        "*   The split method in Python only takes one delimiter as an argument.\n",
        "\n",
        "\n",
        "\n",
        "*   If you want to split the string using multiple delimiters, you can use the re (regular expression) module.\n",
        "\n",
        "\n",
        "---\n",
        "\n",
        "\n",
        "\n",
        "*   Syntax:re.sub(pattern, repl, string, count=0, flags=0)\n",
        "\n",
        "\n",
        "\n",
        "---\n",
        "\n",
        "\n",
        "\n",
        "\n",
        "\n",
        "\n",
        "\n",
        "Parameters\n",
        "\n",
        "The first parameter, pattern, denotes the string/pattern that needs to be replaced.\n",
        "\n",
        "The second parameter, repl, denotes the string/pattern with which the pattern is replaced.\n",
        "\n",
        "The third parameter, string, denotes the string on which the re.sub() operation will be executed.\n",
        "\n",
        "The fourth parameter, count, denotes the number of replacements that should occur.\n",
        "\n",
        "The fifth parameter, flags, helps to shorten the code and has similar functions as that of a split operation.\n",
        "\n",
        "\n",
        "\n",
        "\n",
        "\n",
        "\n"
      ],
      "metadata": {
        "id": "YXD5z3urzMZJ"
      }
    },
    {
      "cell_type": "code",
      "source": [
        "# Importing re module\n",
        "import re\n",
        "\n",
        "# Given String\n",
        "s = \"I am a human being.\"\n",
        "\n",
        "# Performing Sub() operation\n",
        "res_1 = re.sub('a', 'x', s)\n",
        "res_2 = re.sub('[a,I]','x',s)\n",
        "\n",
        "# Print Results\n",
        "print(res_1)\n",
        "print(res_2)\n",
        "\n",
        "# The original string remains unchanged\n",
        "print(s)\n"
      ],
      "metadata": {
        "colab": {
          "base_uri": "https://localhost:8080/"
        },
        "id": "yWoKShIPzLkC",
        "outputId": "0debe747-7b97-45f6-b9a3-8d01ebddd737"
      },
      "execution_count": null,
      "outputs": [
        {
          "output_type": "stream",
          "name": "stdout",
          "text": [
            "I xm x humxn being.\n",
            "x xm x humxn being.\n",
            "I am a human being.\n"
          ]
        }
      ]
    },
    {
      "cell_type": "markdown",
      "source": [
        "Explanation\n",
        "\n",
        "In line 2, we imported the re module.\n",
        "\n",
        "In line 5, we entered a sample string.\n",
        "\n",
        "In line 8, we used the re.sub() function to replace all the instances of a with x in the string s.\n",
        "\n",
        "In line 9, we used the re.sub() function to replace all the instances of a and I with x in the string s.\n",
        "\n",
        "In lines 12 and 13, we printed the results.\n",
        "\n",
        "In line 16, the original string is printed\n",
        "\n",
        "In this way, we can use the re.sub() function in Python."
      ],
      "metadata": {
        "id": "2_d1bEhJ0to-"
      }
    },
    {
      "cell_type": "code",
      "source": [],
      "metadata": {
        "id": "_8TE1Qk_0op-"
      },
      "execution_count": null,
      "outputs": []
    }
  ]
}